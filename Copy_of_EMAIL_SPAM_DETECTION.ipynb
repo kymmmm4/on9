{
  "nbformat": 4,
  "nbformat_minor": 0,
  "metadata": {
    "colab": {
      "provenance": []
    },
    "kernelspec": {
      "name": "python3",
      "display_name": "Python 3"
    },
    "language_info": {
      "name": "python"
    }
  },
  "cells": [
    {
      "cell_type": "markdown",
      "source": [
        "# **EMAIL SPAM DETECTION WITH MACHINE LEARNING**"
      ],
      "metadata": {
        "id": "utqEiatb4hhu"
      }
    },
    {
      "cell_type": "markdown",
      "source": [
        "![no-spam-gmail.webp](data:image/webp;base64,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)"
      ],
      "metadata": {
        "id": "glLM_VkJ4rHN"
      }
    },
    {
      "cell_type": "markdown",
      "source": [
        "\n",
        "\n",
        "#Download **Dataset** here [EMAIL SPAM DETECTION](https://drive.google.com/file/d/19Yz5vBQ3T174xeSOOqVzw3rWWm39stsf/view?usp=share_link)"
      ],
      "metadata": {
        "id": "RdRblOkHuMSI"
      }
    },
    {
      "cell_type": "markdown",
      "source": [
        "### Knowing about the Dataset"
      ],
      "metadata": {
        "id": "gqVmgmxgylHi"
      }
    },
    {
      "cell_type": "markdown",
      "source": [
        "**Importing the Required Libraries**"
      ],
      "metadata": {
        "id": "R6xjm571tdTE"
      }
    },
    {
      "cell_type": "code",
      "execution_count": 88,
      "metadata": {
        "id": "eqRFPSKPaMYz",
        "colab": {
          "base_uri": "https://localhost:8080/"
        },
        "outputId": "db597a4e-74c1-4ddf-8f1c-902f54151ec0"
      },
      "outputs": [
        {
          "output_type": "stream",
          "name": "stderr",
          "text": [
            "[nltk_data] Downloading package stopwords to /root/nltk_data...\n",
            "[nltk_data]   Package stopwords is already up-to-date!\n"
          ]
        }
      ],
      "source": [
        "# Numpy Library for Numerical Calculations\n",
        "import numpy as np\n",
        "\n",
        "# Pandas Library for Dataframe\n",
        "import pandas as pd\n",
        "\n",
        "# Matplotlib and for Plottings\n",
        "import matplotlib.pyplot as plt\n",
        "\n",
        "# Pickle Library for Saving the Model\n",
        "import pickle\n",
        "\n",
        "# RE Library for Regular Expression\n",
        "import re\n",
        "\n",
        "# NLTK Library for Natural Language Processing\n",
        "import nltk\n",
        "nltk.download('stopwords') # Downloading the Stopwords\n",
        "\n",
        "# Stopwords for removing stopwords in the Text\n",
        "from nltk.corpus import stopwords\n",
        "\n",
        "# PorterStemmer for Stemming the Words\n",
        "from nltk.stem.porter import PorterStemmer\n",
        "\n",
        "# CountVectorizer for Bagging of Words and Vectorizing it\n",
        "from sklearn.feature_extraction.text import CountVectorizer\n",
        "\n",
        "# Train_Test_Split for splitting the Dataset\n",
        "from sklearn.model_selection import train_test_split\n",
        "\n",
        "# Decision Tree Classifier, Random Forest Classifier and Multinomial Naïve Bayes are Models\n",
        "from sklearn.tree import DecisionTreeClassifier\n",
        "from sklearn.ensemble import RandomForestClassifier\n",
        "from sklearn.naive_bayes import MultinomialNB\n",
        "\n",
        "# Accuracy Score and Confusion Matrix is for Analysis of Models\n",
        "from sklearn.metrics import confusion_matrix\n",
        "from sklearn.metrics import accuracy_score"
      ]
    },
    {
      "cell_type": "markdown",
      "source": [
        "**Reading informations in the Dataset**"
      ],
      "metadata": {
        "id": "xu7WlNl7vbXx"
      }
    },
    {
      "cell_type": "code",
      "source": [
        "from google.colab import drive\n",
        "drive.mount('/content/drive')"
      ],
      "metadata": {
        "colab": {
          "base_uri": "https://localhost:8080/"
        },
        "id": "eSacBasC8hEs",
        "outputId": "b95a099c-81db-4bbb-bf0a-bf08b965f0bb"
      },
      "execution_count": 89,
      "outputs": [
        {
          "output_type": "stream",
          "name": "stdout",
          "text": [
            "Drive already mounted at /content/drive; to attempt to forcibly remount, call drive.mount(\"/content/drive\", force_remount=True).\n"
          ]
        }
      ]
    },
    {
      "cell_type": "code",
      "source": [
        "spam = pd.read_csv(\"/content/cleaned2_data.csv\", encoding='ISO-8859-1')"
      ],
      "metadata": {
        "id": "q_Exx0yo8npF"
      },
      "execution_count": 90,
      "outputs": []
    },
    {
      "cell_type": "code",
      "source": [
        "import pandas as pd\n",
        "\n",
        "# Load your data into a pandas DataFrame\n",
        "df = pd.read_csv('/Final.spam.csv')\n",
        "\n",
        "# Remove duplicate rows based on all columns\n",
        "df.drop_duplicates(inplace=True)\n",
        "\n",
        "# Save the cleaned data back to a file\n",
        "df.to_csv('cleaned2_data.csv', index=False)\n",
        "\n",
        "import pandas as pd\n",
        "\n",
        "# Load your cleaned data into a pandas DataFrame\n",
        "cleaned_df = pd.read_csv('cleaned2_data.csv')\n",
        "\n",
        "# Display a sample row from the DataFrame\n",
        "sample_row = cleaned_df.sample(1)\n",
        "print(sample_row)"
      ],
      "metadata": {
        "colab": {
          "base_uri": "https://localhost:8080/",
          "height": 546
        },
        "id": "JzBKE238WnU_",
        "outputId": "67859d2d-03b7-40d4-c0c8-2485e2237608"
      },
      "execution_count": null,
      "outputs": [
        {
          "output_type": "error",
          "ename": "UnicodeDecodeError",
          "evalue": "'utf-8' codec can't decode bytes in position 606-607: invalid continuation byte",
          "traceback": [
            "\u001b[0;31m---------------------------------------------------------------------------\u001b[0m",
            "\u001b[0;31mUnicodeDecodeError\u001b[0m                        Traceback (most recent call last)",
            "\u001b[0;32m<ipython-input-6-a7211384e92f>\u001b[0m in \u001b[0;36m<cell line: 4>\u001b[0;34m()\u001b[0m\n\u001b[1;32m      2\u001b[0m \u001b[0;34m\u001b[0m\u001b[0m\n\u001b[1;32m      3\u001b[0m \u001b[0;31m# Load your data into a pandas DataFrame\u001b[0m\u001b[0;34m\u001b[0m\u001b[0;34m\u001b[0m\u001b[0m\n\u001b[0;32m----> 4\u001b[0;31m \u001b[0mdf\u001b[0m \u001b[0;34m=\u001b[0m \u001b[0mpd\u001b[0m\u001b[0;34m.\u001b[0m\u001b[0mread_csv\u001b[0m\u001b[0;34m(\u001b[0m\u001b[0;34m'/content/spam.csv'\u001b[0m\u001b[0;34m)\u001b[0m\u001b[0;34m\u001b[0m\u001b[0;34m\u001b[0m\u001b[0m\n\u001b[0m\u001b[1;32m      5\u001b[0m \u001b[0;34m\u001b[0m\u001b[0m\n\u001b[1;32m      6\u001b[0m \u001b[0;31m# Remove duplicate rows based on all columns\u001b[0m\u001b[0;34m\u001b[0m\u001b[0;34m\u001b[0m\u001b[0m\n",
            "\u001b[0;32m/usr/local/lib/python3.10/dist-packages/pandas/io/parsers/readers.py\u001b[0m in \u001b[0;36mread_csv\u001b[0;34m(filepath_or_buffer, sep, delimiter, header, names, index_col, usecols, dtype, engine, converters, true_values, false_values, skipinitialspace, skiprows, skipfooter, nrows, na_values, keep_default_na, na_filter, verbose, skip_blank_lines, parse_dates, infer_datetime_format, keep_date_col, date_parser, date_format, dayfirst, cache_dates, iterator, chunksize, compression, thousands, decimal, lineterminator, quotechar, quoting, doublequote, escapechar, comment, encoding, encoding_errors, dialect, on_bad_lines, delim_whitespace, low_memory, memory_map, float_precision, storage_options, dtype_backend)\u001b[0m\n\u001b[1;32m   1024\u001b[0m     \u001b[0mkwds\u001b[0m\u001b[0;34m.\u001b[0m\u001b[0mupdate\u001b[0m\u001b[0;34m(\u001b[0m\u001b[0mkwds_defaults\u001b[0m\u001b[0;34m)\u001b[0m\u001b[0;34m\u001b[0m\u001b[0;34m\u001b[0m\u001b[0m\n\u001b[1;32m   1025\u001b[0m \u001b[0;34m\u001b[0m\u001b[0m\n\u001b[0;32m-> 1026\u001b[0;31m     \u001b[0;32mreturn\u001b[0m \u001b[0m_read\u001b[0m\u001b[0;34m(\u001b[0m\u001b[0mfilepath_or_buffer\u001b[0m\u001b[0;34m,\u001b[0m \u001b[0mkwds\u001b[0m\u001b[0;34m)\u001b[0m\u001b[0;34m\u001b[0m\u001b[0;34m\u001b[0m\u001b[0m\n\u001b[0m\u001b[1;32m   1027\u001b[0m \u001b[0;34m\u001b[0m\u001b[0m\n\u001b[1;32m   1028\u001b[0m \u001b[0;34m\u001b[0m\u001b[0m\n",
            "\u001b[0;32m/usr/local/lib/python3.10/dist-packages/pandas/io/parsers/readers.py\u001b[0m in \u001b[0;36m_read\u001b[0;34m(filepath_or_buffer, kwds)\u001b[0m\n\u001b[1;32m    618\u001b[0m \u001b[0;34m\u001b[0m\u001b[0m\n\u001b[1;32m    619\u001b[0m     \u001b[0;31m# Create the parser.\u001b[0m\u001b[0;34m\u001b[0m\u001b[0;34m\u001b[0m\u001b[0m\n\u001b[0;32m--> 620\u001b[0;31m     \u001b[0mparser\u001b[0m \u001b[0;34m=\u001b[0m \u001b[0mTextFileReader\u001b[0m\u001b[0;34m(\u001b[0m\u001b[0mfilepath_or_buffer\u001b[0m\u001b[0;34m,\u001b[0m \u001b[0;34m**\u001b[0m\u001b[0mkwds\u001b[0m\u001b[0;34m)\u001b[0m\u001b[0;34m\u001b[0m\u001b[0;34m\u001b[0m\u001b[0m\n\u001b[0m\u001b[1;32m    621\u001b[0m \u001b[0;34m\u001b[0m\u001b[0m\n\u001b[1;32m    622\u001b[0m     \u001b[0;32mif\u001b[0m \u001b[0mchunksize\u001b[0m \u001b[0;32mor\u001b[0m \u001b[0miterator\u001b[0m\u001b[0;34m:\u001b[0m\u001b[0;34m\u001b[0m\u001b[0;34m\u001b[0m\u001b[0m\n",
            "\u001b[0;32m/usr/local/lib/python3.10/dist-packages/pandas/io/parsers/readers.py\u001b[0m in \u001b[0;36m__init__\u001b[0;34m(self, f, engine, **kwds)\u001b[0m\n\u001b[1;32m   1618\u001b[0m \u001b[0;34m\u001b[0m\u001b[0m\n\u001b[1;32m   1619\u001b[0m         \u001b[0mself\u001b[0m\u001b[0;34m.\u001b[0m\u001b[0mhandles\u001b[0m\u001b[0;34m:\u001b[0m \u001b[0mIOHandles\u001b[0m \u001b[0;34m|\u001b[0m \u001b[0;32mNone\u001b[0m \u001b[0;34m=\u001b[0m \u001b[0;32mNone\u001b[0m\u001b[0;34m\u001b[0m\u001b[0;34m\u001b[0m\u001b[0m\n\u001b[0;32m-> 1620\u001b[0;31m         \u001b[0mself\u001b[0m\u001b[0;34m.\u001b[0m\u001b[0m_engine\u001b[0m \u001b[0;34m=\u001b[0m \u001b[0mself\u001b[0m\u001b[0;34m.\u001b[0m\u001b[0m_make_engine\u001b[0m\u001b[0;34m(\u001b[0m\u001b[0mf\u001b[0m\u001b[0;34m,\u001b[0m \u001b[0mself\u001b[0m\u001b[0;34m.\u001b[0m\u001b[0mengine\u001b[0m\u001b[0;34m)\u001b[0m\u001b[0;34m\u001b[0m\u001b[0;34m\u001b[0m\u001b[0m\n\u001b[0m\u001b[1;32m   1621\u001b[0m \u001b[0;34m\u001b[0m\u001b[0m\n\u001b[1;32m   1622\u001b[0m     \u001b[0;32mdef\u001b[0m \u001b[0mclose\u001b[0m\u001b[0;34m(\u001b[0m\u001b[0mself\u001b[0m\u001b[0;34m)\u001b[0m \u001b[0;34m->\u001b[0m \u001b[0;32mNone\u001b[0m\u001b[0;34m:\u001b[0m\u001b[0;34m\u001b[0m\u001b[0;34m\u001b[0m\u001b[0m\n",
            "\u001b[0;32m/usr/local/lib/python3.10/dist-packages/pandas/io/parsers/readers.py\u001b[0m in \u001b[0;36m_make_engine\u001b[0;34m(self, f, engine)\u001b[0m\n\u001b[1;32m   1896\u001b[0m \u001b[0;34m\u001b[0m\u001b[0m\n\u001b[1;32m   1897\u001b[0m         \u001b[0;32mtry\u001b[0m\u001b[0;34m:\u001b[0m\u001b[0;34m\u001b[0m\u001b[0;34m\u001b[0m\u001b[0m\n\u001b[0;32m-> 1898\u001b[0;31m             \u001b[0;32mreturn\u001b[0m \u001b[0mmapping\u001b[0m\u001b[0;34m[\u001b[0m\u001b[0mengine\u001b[0m\u001b[0;34m]\u001b[0m\u001b[0;34m(\u001b[0m\u001b[0mf\u001b[0m\u001b[0;34m,\u001b[0m \u001b[0;34m**\u001b[0m\u001b[0mself\u001b[0m\u001b[0;34m.\u001b[0m\u001b[0moptions\u001b[0m\u001b[0;34m)\u001b[0m\u001b[0;34m\u001b[0m\u001b[0;34m\u001b[0m\u001b[0m\n\u001b[0m\u001b[1;32m   1899\u001b[0m         \u001b[0;32mexcept\u001b[0m \u001b[0mException\u001b[0m\u001b[0;34m:\u001b[0m\u001b[0;34m\u001b[0m\u001b[0;34m\u001b[0m\u001b[0m\n\u001b[1;32m   1900\u001b[0m             \u001b[0;32mif\u001b[0m \u001b[0mself\u001b[0m\u001b[0;34m.\u001b[0m\u001b[0mhandles\u001b[0m \u001b[0;32mis\u001b[0m \u001b[0;32mnot\u001b[0m \u001b[0;32mNone\u001b[0m\u001b[0;34m:\u001b[0m\u001b[0;34m\u001b[0m\u001b[0;34m\u001b[0m\u001b[0m\n",
            "\u001b[0;32m/usr/local/lib/python3.10/dist-packages/pandas/io/parsers/c_parser_wrapper.py\u001b[0m in \u001b[0;36m__init__\u001b[0;34m(self, src, **kwds)\u001b[0m\n\u001b[1;32m     91\u001b[0m             \u001b[0;31m# Fail here loudly instead of in cython after reading\u001b[0m\u001b[0;34m\u001b[0m\u001b[0;34m\u001b[0m\u001b[0m\n\u001b[1;32m     92\u001b[0m             \u001b[0mimport_optional_dependency\u001b[0m\u001b[0;34m(\u001b[0m\u001b[0;34m\"pyarrow\"\u001b[0m\u001b[0;34m)\u001b[0m\u001b[0;34m\u001b[0m\u001b[0;34m\u001b[0m\u001b[0m\n\u001b[0;32m---> 93\u001b[0;31m         \u001b[0mself\u001b[0m\u001b[0;34m.\u001b[0m\u001b[0m_reader\u001b[0m \u001b[0;34m=\u001b[0m \u001b[0mparsers\u001b[0m\u001b[0;34m.\u001b[0m\u001b[0mTextReader\u001b[0m\u001b[0;34m(\u001b[0m\u001b[0msrc\u001b[0m\u001b[0;34m,\u001b[0m \u001b[0;34m**\u001b[0m\u001b[0mkwds\u001b[0m\u001b[0;34m)\u001b[0m\u001b[0;34m\u001b[0m\u001b[0;34m\u001b[0m\u001b[0m\n\u001b[0m\u001b[1;32m     94\u001b[0m \u001b[0;34m\u001b[0m\u001b[0m\n\u001b[1;32m     95\u001b[0m         \u001b[0mself\u001b[0m\u001b[0;34m.\u001b[0m\u001b[0munnamed_cols\u001b[0m \u001b[0;34m=\u001b[0m \u001b[0mself\u001b[0m\u001b[0;34m.\u001b[0m\u001b[0m_reader\u001b[0m\u001b[0;34m.\u001b[0m\u001b[0munnamed_cols\u001b[0m\u001b[0;34m\u001b[0m\u001b[0;34m\u001b[0m\u001b[0m\n",
            "\u001b[0;32mparsers.pyx\u001b[0m in \u001b[0;36mpandas._libs.parsers.TextReader.__cinit__\u001b[0;34m()\u001b[0m\n",
            "\u001b[0;32mparsers.pyx\u001b[0m in \u001b[0;36mpandas._libs.parsers.TextReader._get_header\u001b[0;34m()\u001b[0m\n",
            "\u001b[0;32mparsers.pyx\u001b[0m in \u001b[0;36mpandas._libs.parsers.TextReader._tokenize_rows\u001b[0;34m()\u001b[0m\n",
            "\u001b[0;32mparsers.pyx\u001b[0m in \u001b[0;36mpandas._libs.parsers.TextReader._check_tokenize_status\u001b[0;34m()\u001b[0m\n",
            "\u001b[0;32mparsers.pyx\u001b[0m in \u001b[0;36mpandas._libs.parsers.raise_parser_error\u001b[0;34m()\u001b[0m\n",
            "\u001b[0;31mUnicodeDecodeError\u001b[0m: 'utf-8' codec can't decode bytes in position 606-607: invalid continuation byte"
          ]
        }
      ]
    },
    {
      "cell_type": "markdown",
      "source": [
        "**Checking for null values in Data**"
      ],
      "metadata": {
        "id": "ztslY5yawK3r"
      }
    },
    {
      "cell_type": "code",
      "source": [
        "spam.isnull().sum()"
      ],
      "metadata": {
        "colab": {
          "base_uri": "https://localhost:8080/",
          "height": 146
        },
        "id": "Ww240wGtdwBG",
        "outputId": "13030014-e76f-4881-a551-9461b712e33b"
      },
      "execution_count": 91,
      "outputs": [
        {
          "output_type": "execute_result",
          "data": {
            "text/plain": [
              "v1    0\n",
              "v2    0\n",
              "dtype: int64"
            ],
            "text/html": [
              "<div>\n",
              "<style scoped>\n",
              "    .dataframe tbody tr th:only-of-type {\n",
              "        vertical-align: middle;\n",
              "    }\n",
              "\n",
              "    .dataframe tbody tr th {\n",
              "        vertical-align: top;\n",
              "    }\n",
              "\n",
              "    .dataframe thead th {\n",
              "        text-align: right;\n",
              "    }\n",
              "</style>\n",
              "<table border=\"1\" class=\"dataframe\">\n",
              "  <thead>\n",
              "    <tr style=\"text-align: right;\">\n",
              "      <th></th>\n",
              "      <th>0</th>\n",
              "    </tr>\n",
              "  </thead>\n",
              "  <tbody>\n",
              "    <tr>\n",
              "      <th>v1</th>\n",
              "      <td>0</td>\n",
              "    </tr>\n",
              "    <tr>\n",
              "      <th>v2</th>\n",
              "      <td>0</td>\n",
              "    </tr>\n",
              "  </tbody>\n",
              "</table>\n",
              "</div><br><label><b>dtype:</b> int64</label>"
            ]
          },
          "metadata": {},
          "execution_count": 91
        }
      ]
    },
    {
      "cell_type": "markdown",
      "source": [
        "**Checking the First Five Values in the Data**"
      ],
      "metadata": {
        "id": "0N934_m8w2aH"
      }
    },
    {
      "cell_type": "code",
      "source": [
        "spam.head()"
      ],
      "metadata": {
        "colab": {
          "base_uri": "https://localhost:8080/",
          "height": 206
        },
        "id": "8H8fXgqwd6X0",
        "outputId": "c551b76c-4c14-4dad-d337-35a2dedfbcf3"
      },
      "execution_count": 92,
      "outputs": [
        {
          "output_type": "execute_result",
          "data": {
            "text/plain": [
              "     v1                                                 v2\n",
              "0   ham  Go until jurong point, crazy.. Available only ...\n",
              "1   ham                      Ok lar... Joking wif u oni...\n",
              "2  spam  Free entry in 2 a wkly comp to win FA Cup fina...\n",
              "3   ham  U dun say so early hor... U c already then say...\n",
              "4   ham  Nah I don't think he goes to usf, he lives aro..."
            ],
            "text/html": [
              "\n",
              "  <div id=\"df-408e6e49-b5df-481e-89b8-b4b469ce7ffc\" class=\"colab-df-container\">\n",
              "    <div>\n",
              "<style scoped>\n",
              "    .dataframe tbody tr th:only-of-type {\n",
              "        vertical-align: middle;\n",
              "    }\n",
              "\n",
              "    .dataframe tbody tr th {\n",
              "        vertical-align: top;\n",
              "    }\n",
              "\n",
              "    .dataframe thead th {\n",
              "        text-align: right;\n",
              "    }\n",
              "</style>\n",
              "<table border=\"1\" class=\"dataframe\">\n",
              "  <thead>\n",
              "    <tr style=\"text-align: right;\">\n",
              "      <th></th>\n",
              "      <th>v1</th>\n",
              "      <th>v2</th>\n",
              "    </tr>\n",
              "  </thead>\n",
              "  <tbody>\n",
              "    <tr>\n",
              "      <th>0</th>\n",
              "      <td>ham</td>\n",
              "      <td>Go until jurong point, crazy.. Available only ...</td>\n",
              "    </tr>\n",
              "    <tr>\n",
              "      <th>1</th>\n",
              "      <td>ham</td>\n",
              "      <td>Ok lar... Joking wif u oni...</td>\n",
              "    </tr>\n",
              "    <tr>\n",
              "      <th>2</th>\n",
              "      <td>spam</td>\n",
              "      <td>Free entry in 2 a wkly comp to win FA Cup fina...</td>\n",
              "    </tr>\n",
              "    <tr>\n",
              "      <th>3</th>\n",
              "      <td>ham</td>\n",
              "      <td>U dun say so early hor... U c already then say...</td>\n",
              "    </tr>\n",
              "    <tr>\n",
              "      <th>4</th>\n",
              "      <td>ham</td>\n",
              "      <td>Nah I don't think he goes to usf, he lives aro...</td>\n",
              "    </tr>\n",
              "  </tbody>\n",
              "</table>\n",
              "</div>\n",
              "    <div class=\"colab-df-buttons\">\n",
              "\n",
              "  <div class=\"colab-df-container\">\n",
              "    <button class=\"colab-df-convert\" onclick=\"convertToInteractive('df-408e6e49-b5df-481e-89b8-b4b469ce7ffc')\"\n",
              "            title=\"Convert this dataframe to an interactive table.\"\n",
              "            style=\"display:none;\">\n",
              "\n",
              "  <svg xmlns=\"http://www.w3.org/2000/svg\" height=\"24px\" viewBox=\"0 -960 960 960\">\n",
              "    <path d=\"M120-120v-720h720v720H120Zm60-500h600v-160H180v160Zm220 220h160v-160H400v160Zm0 220h160v-160H400v160ZM180-400h160v-160H180v160Zm440 0h160v-160H620v160ZM180-180h160v-160H180v160Zm440 0h160v-160H620v160Z\"/>\n",
              "  </svg>\n",
              "    </button>\n",
              "\n",
              "  <style>\n",
              "    .colab-df-container {\n",
              "      display:flex;\n",
              "      gap: 12px;\n",
              "    }\n",
              "\n",
              "    .colab-df-convert {\n",
              "      background-color: #E8F0FE;\n",
              "      border: none;\n",
              "      border-radius: 50%;\n",
              "      cursor: pointer;\n",
              "      display: none;\n",
              "      fill: #1967D2;\n",
              "      height: 32px;\n",
              "      padding: 0 0 0 0;\n",
              "      width: 32px;\n",
              "    }\n",
              "\n",
              "    .colab-df-convert:hover {\n",
              "      background-color: #E2EBFA;\n",
              "      box-shadow: 0px 1px 2px rgba(60, 64, 67, 0.3), 0px 1px 3px 1px rgba(60, 64, 67, 0.15);\n",
              "      fill: #174EA6;\n",
              "    }\n",
              "\n",
              "    .colab-df-buttons div {\n",
              "      margin-bottom: 4px;\n",
              "    }\n",
              "\n",
              "    [theme=dark] .colab-df-convert {\n",
              "      background-color: #3B4455;\n",
              "      fill: #D2E3FC;\n",
              "    }\n",
              "\n",
              "    [theme=dark] .colab-df-convert:hover {\n",
              "      background-color: #434B5C;\n",
              "      box-shadow: 0px 1px 3px 1px rgba(0, 0, 0, 0.15);\n",
              "      filter: drop-shadow(0px 1px 2px rgba(0, 0, 0, 0.3));\n",
              "      fill: #FFFFFF;\n",
              "    }\n",
              "  </style>\n",
              "\n",
              "    <script>\n",
              "      const buttonEl =\n",
              "        document.querySelector('#df-408e6e49-b5df-481e-89b8-b4b469ce7ffc button.colab-df-convert');\n",
              "      buttonEl.style.display =\n",
              "        google.colab.kernel.accessAllowed ? 'block' : 'none';\n",
              "\n",
              "      async function convertToInteractive(key) {\n",
              "        const element = document.querySelector('#df-408e6e49-b5df-481e-89b8-b4b469ce7ffc');\n",
              "        const dataTable =\n",
              "          await google.colab.kernel.invokeFunction('convertToInteractive',\n",
              "                                                    [key], {});\n",
              "        if (!dataTable) return;\n",
              "\n",
              "        const docLinkHtml = 'Like what you see? Visit the ' +\n",
              "          '<a target=\"_blank\" href=https://colab.research.google.com/notebooks/data_table.ipynb>data table notebook</a>'\n",
              "          + ' to learn more about interactive tables.';\n",
              "        element.innerHTML = '';\n",
              "        dataTable['output_type'] = 'display_data';\n",
              "        await google.colab.output.renderOutput(dataTable, element);\n",
              "        const docLink = document.createElement('div');\n",
              "        docLink.innerHTML = docLinkHtml;\n",
              "        element.appendChild(docLink);\n",
              "      }\n",
              "    </script>\n",
              "  </div>\n",
              "\n",
              "\n",
              "<div id=\"df-40e389fa-6ba8-4568-ba65-88f39308b622\">\n",
              "  <button class=\"colab-df-quickchart\" onclick=\"quickchart('df-40e389fa-6ba8-4568-ba65-88f39308b622')\"\n",
              "            title=\"Suggest charts\"\n",
              "            style=\"display:none;\">\n",
              "\n",
              "<svg xmlns=\"http://www.w3.org/2000/svg\" height=\"24px\"viewBox=\"0 0 24 24\"\n",
              "     width=\"24px\">\n",
              "    <g>\n",
              "        <path d=\"M19 3H5c-1.1 0-2 .9-2 2v14c0 1.1.9 2 2 2h14c1.1 0 2-.9 2-2V5c0-1.1-.9-2-2-2zM9 17H7v-7h2v7zm4 0h-2V7h2v10zm4 0h-2v-4h2v4z\"/>\n",
              "    </g>\n",
              "</svg>\n",
              "  </button>\n",
              "\n",
              "<style>\n",
              "  .colab-df-quickchart {\n",
              "      --bg-color: #E8F0FE;\n",
              "      --fill-color: #1967D2;\n",
              "      --hover-bg-color: #E2EBFA;\n",
              "      --hover-fill-color: #174EA6;\n",
              "      --disabled-fill-color: #AAA;\n",
              "      --disabled-bg-color: #DDD;\n",
              "  }\n",
              "\n",
              "  [theme=dark] .colab-df-quickchart {\n",
              "      --bg-color: #3B4455;\n",
              "      --fill-color: #D2E3FC;\n",
              "      --hover-bg-color: #434B5C;\n",
              "      --hover-fill-color: #FFFFFF;\n",
              "      --disabled-bg-color: #3B4455;\n",
              "      --disabled-fill-color: #666;\n",
              "  }\n",
              "\n",
              "  .colab-df-quickchart {\n",
              "    background-color: var(--bg-color);\n",
              "    border: none;\n",
              "    border-radius: 50%;\n",
              "    cursor: pointer;\n",
              "    display: none;\n",
              "    fill: var(--fill-color);\n",
              "    height: 32px;\n",
              "    padding: 0;\n",
              "    width: 32px;\n",
              "  }\n",
              "\n",
              "  .colab-df-quickchart:hover {\n",
              "    background-color: var(--hover-bg-color);\n",
              "    box-shadow: 0 1px 2px rgba(60, 64, 67, 0.3), 0 1px 3px 1px rgba(60, 64, 67, 0.15);\n",
              "    fill: var(--button-hover-fill-color);\n",
              "  }\n",
              "\n",
              "  .colab-df-quickchart-complete:disabled,\n",
              "  .colab-df-quickchart-complete:disabled:hover {\n",
              "    background-color: var(--disabled-bg-color);\n",
              "    fill: var(--disabled-fill-color);\n",
              "    box-shadow: none;\n",
              "  }\n",
              "\n",
              "  .colab-df-spinner {\n",
              "    border: 2px solid var(--fill-color);\n",
              "    border-color: transparent;\n",
              "    border-bottom-color: var(--fill-color);\n",
              "    animation:\n",
              "      spin 1s steps(1) infinite;\n",
              "  }\n",
              "\n",
              "  @keyframes spin {\n",
              "    0% {\n",
              "      border-color: transparent;\n",
              "      border-bottom-color: var(--fill-color);\n",
              "      border-left-color: var(--fill-color);\n",
              "    }\n",
              "    20% {\n",
              "      border-color: transparent;\n",
              "      border-left-color: var(--fill-color);\n",
              "      border-top-color: var(--fill-color);\n",
              "    }\n",
              "    30% {\n",
              "      border-color: transparent;\n",
              "      border-left-color: var(--fill-color);\n",
              "      border-top-color: var(--fill-color);\n",
              "      border-right-color: var(--fill-color);\n",
              "    }\n",
              "    40% {\n",
              "      border-color: transparent;\n",
              "      border-right-color: var(--fill-color);\n",
              "      border-top-color: var(--fill-color);\n",
              "    }\n",
              "    60% {\n",
              "      border-color: transparent;\n",
              "      border-right-color: var(--fill-color);\n",
              "    }\n",
              "    80% {\n",
              "      border-color: transparent;\n",
              "      border-right-color: var(--fill-color);\n",
              "      border-bottom-color: var(--fill-color);\n",
              "    }\n",
              "    90% {\n",
              "      border-color: transparent;\n",
              "      border-bottom-color: var(--fill-color);\n",
              "    }\n",
              "  }\n",
              "</style>\n",
              "\n",
              "  <script>\n",
              "    async function quickchart(key) {\n",
              "      const quickchartButtonEl =\n",
              "        document.querySelector('#' + key + ' button');\n",
              "      quickchartButtonEl.disabled = true;  // To prevent multiple clicks.\n",
              "      quickchartButtonEl.classList.add('colab-df-spinner');\n",
              "      try {\n",
              "        const charts = await google.colab.kernel.invokeFunction(\n",
              "            'suggestCharts', [key], {});\n",
              "      } catch (error) {\n",
              "        console.error('Error during call to suggestCharts:', error);\n",
              "      }\n",
              "      quickchartButtonEl.classList.remove('colab-df-spinner');\n",
              "      quickchartButtonEl.classList.add('colab-df-quickchart-complete');\n",
              "    }\n",
              "    (() => {\n",
              "      let quickchartButtonEl =\n",
              "        document.querySelector('#df-40e389fa-6ba8-4568-ba65-88f39308b622 button');\n",
              "      quickchartButtonEl.style.display =\n",
              "        google.colab.kernel.accessAllowed ? 'block' : 'none';\n",
              "    })();\n",
              "  </script>\n",
              "</div>\n",
              "    </div>\n",
              "  </div>\n"
            ],
            "application/vnd.google.colaboratory.intrinsic+json": {
              "type": "dataframe",
              "variable_name": "spam",
              "summary": "{\n  \"name\": \"spam\",\n  \"rows\": 7810,\n  \"fields\": [\n    {\n      \"column\": \"v1\",\n      \"properties\": {\n        \"dtype\": \"category\",\n        \"num_unique_values\": 2,\n        \"samples\": [\n          \"spam\",\n          \"ham\"\n        ],\n        \"semantic_type\": \"\",\n        \"description\": \"\"\n      }\n    },\n    {\n      \"column\": \"v2\",\n      \"properties\": {\n        \"dtype\": \"string\",\n        \"num_unique_values\": 7804,\n        \"samples\": [\n          \"Robust multimedia productivity - Don't Miss Out!\",\n          \"Exclusive Opportunity: Orchestrate efficient niches\"\n        ],\n        \"semantic_type\": \"\",\n        \"description\": \"\"\n      }\n    }\n  ]\n}"
            }
          },
          "metadata": {},
          "execution_count": 92
        }
      ]
    },
    {
      "cell_type": "markdown",
      "source": [
        "**Checking the Last Five Values in the Data**"
      ],
      "metadata": {
        "id": "11wXmVfVxERV"
      }
    },
    {
      "cell_type": "code",
      "source": [
        "spam.tail()"
      ],
      "metadata": {
        "colab": {
          "base_uri": "https://localhost:8080/",
          "height": 206
        },
        "id": "Lqal9JcueAej",
        "outputId": "d4038f72-ff91-42ed-fd41-2b76ef46af17"
      },
      "execution_count": 93,
      "outputs": [
        {
          "output_type": "execute_result",
          "data": {
            "text/plain": [
              "        v1                                                 v2\n",
              "7805  spam  Claim Your Reward: Horticulturist, commercial ...\n",
              "7806  spam  Difficult thank treat newspaper impact. - Don'...\n",
              "7807  spam  Set chair stop affect especially nor against. ...\n",
              "7808  spam                 Discover the Power of Media Today!\n",
              "7809  spam      Vazquez-Reeves Announces Exclusive Discounts!"
            ],
            "text/html": [
              "\n",
              "  <div id=\"df-0fbf6640-0fc9-4e48-9e6a-26a60cb7d133\" class=\"colab-df-container\">\n",
              "    <div>\n",
              "<style scoped>\n",
              "    .dataframe tbody tr th:only-of-type {\n",
              "        vertical-align: middle;\n",
              "    }\n",
              "\n",
              "    .dataframe tbody tr th {\n",
              "        vertical-align: top;\n",
              "    }\n",
              "\n",
              "    .dataframe thead th {\n",
              "        text-align: right;\n",
              "    }\n",
              "</style>\n",
              "<table border=\"1\" class=\"dataframe\">\n",
              "  <thead>\n",
              "    <tr style=\"text-align: right;\">\n",
              "      <th></th>\n",
              "      <th>v1</th>\n",
              "      <th>v2</th>\n",
              "    </tr>\n",
              "  </thead>\n",
              "  <tbody>\n",
              "    <tr>\n",
              "      <th>7805</th>\n",
              "      <td>spam</td>\n",
              "      <td>Claim Your Reward: Horticulturist, commercial ...</td>\n",
              "    </tr>\n",
              "    <tr>\n",
              "      <th>7806</th>\n",
              "      <td>spam</td>\n",
              "      <td>Difficult thank treat newspaper impact. - Don'...</td>\n",
              "    </tr>\n",
              "    <tr>\n",
              "      <th>7807</th>\n",
              "      <td>spam</td>\n",
              "      <td>Set chair stop affect especially nor against. ...</td>\n",
              "    </tr>\n",
              "    <tr>\n",
              "      <th>7808</th>\n",
              "      <td>spam</td>\n",
              "      <td>Discover the Power of Media Today!</td>\n",
              "    </tr>\n",
              "    <tr>\n",
              "      <th>7809</th>\n",
              "      <td>spam</td>\n",
              "      <td>Vazquez-Reeves Announces Exclusive Discounts!</td>\n",
              "    </tr>\n",
              "  </tbody>\n",
              "</table>\n",
              "</div>\n",
              "    <div class=\"colab-df-buttons\">\n",
              "\n",
              "  <div class=\"colab-df-container\">\n",
              "    <button class=\"colab-df-convert\" onclick=\"convertToInteractive('df-0fbf6640-0fc9-4e48-9e6a-26a60cb7d133')\"\n",
              "            title=\"Convert this dataframe to an interactive table.\"\n",
              "            style=\"display:none;\">\n",
              "\n",
              "  <svg xmlns=\"http://www.w3.org/2000/svg\" height=\"24px\" viewBox=\"0 -960 960 960\">\n",
              "    <path d=\"M120-120v-720h720v720H120Zm60-500h600v-160H180v160Zm220 220h160v-160H400v160Zm0 220h160v-160H400v160ZM180-400h160v-160H180v160Zm440 0h160v-160H620v160ZM180-180h160v-160H180v160Zm440 0h160v-160H620v160Z\"/>\n",
              "  </svg>\n",
              "    </button>\n",
              "\n",
              "  <style>\n",
              "    .colab-df-container {\n",
              "      display:flex;\n",
              "      gap: 12px;\n",
              "    }\n",
              "\n",
              "    .colab-df-convert {\n",
              "      background-color: #E8F0FE;\n",
              "      border: none;\n",
              "      border-radius: 50%;\n",
              "      cursor: pointer;\n",
              "      display: none;\n",
              "      fill: #1967D2;\n",
              "      height: 32px;\n",
              "      padding: 0 0 0 0;\n",
              "      width: 32px;\n",
              "    }\n",
              "\n",
              "    .colab-df-convert:hover {\n",
              "      background-color: #E2EBFA;\n",
              "      box-shadow: 0px 1px 2px rgba(60, 64, 67, 0.3), 0px 1px 3px 1px rgba(60, 64, 67, 0.15);\n",
              "      fill: #174EA6;\n",
              "    }\n",
              "\n",
              "    .colab-df-buttons div {\n",
              "      margin-bottom: 4px;\n",
              "    }\n",
              "\n",
              "    [theme=dark] .colab-df-convert {\n",
              "      background-color: #3B4455;\n",
              "      fill: #D2E3FC;\n",
              "    }\n",
              "\n",
              "    [theme=dark] .colab-df-convert:hover {\n",
              "      background-color: #434B5C;\n",
              "      box-shadow: 0px 1px 3px 1px rgba(0, 0, 0, 0.15);\n",
              "      filter: drop-shadow(0px 1px 2px rgba(0, 0, 0, 0.3));\n",
              "      fill: #FFFFFF;\n",
              "    }\n",
              "  </style>\n",
              "\n",
              "    <script>\n",
              "      const buttonEl =\n",
              "        document.querySelector('#df-0fbf6640-0fc9-4e48-9e6a-26a60cb7d133 button.colab-df-convert');\n",
              "      buttonEl.style.display =\n",
              "        google.colab.kernel.accessAllowed ? 'block' : 'none';\n",
              "\n",
              "      async function convertToInteractive(key) {\n",
              "        const element = document.querySelector('#df-0fbf6640-0fc9-4e48-9e6a-26a60cb7d133');\n",
              "        const dataTable =\n",
              "          await google.colab.kernel.invokeFunction('convertToInteractive',\n",
              "                                                    [key], {});\n",
              "        if (!dataTable) return;\n",
              "\n",
              "        const docLinkHtml = 'Like what you see? Visit the ' +\n",
              "          '<a target=\"_blank\" href=https://colab.research.google.com/notebooks/data_table.ipynb>data table notebook</a>'\n",
              "          + ' to learn more about interactive tables.';\n",
              "        element.innerHTML = '';\n",
              "        dataTable['output_type'] = 'display_data';\n",
              "        await google.colab.output.renderOutput(dataTable, element);\n",
              "        const docLink = document.createElement('div');\n",
              "        docLink.innerHTML = docLinkHtml;\n",
              "        element.appendChild(docLink);\n",
              "      }\n",
              "    </script>\n",
              "  </div>\n",
              "\n",
              "\n",
              "<div id=\"df-12fa328a-fdf9-4943-9307-f4f5c8988b1a\">\n",
              "  <button class=\"colab-df-quickchart\" onclick=\"quickchart('df-12fa328a-fdf9-4943-9307-f4f5c8988b1a')\"\n",
              "            title=\"Suggest charts\"\n",
              "            style=\"display:none;\">\n",
              "\n",
              "<svg xmlns=\"http://www.w3.org/2000/svg\" height=\"24px\"viewBox=\"0 0 24 24\"\n",
              "     width=\"24px\">\n",
              "    <g>\n",
              "        <path d=\"M19 3H5c-1.1 0-2 .9-2 2v14c0 1.1.9 2 2 2h14c1.1 0 2-.9 2-2V5c0-1.1-.9-2-2-2zM9 17H7v-7h2v7zm4 0h-2V7h2v10zm4 0h-2v-4h2v4z\"/>\n",
              "    </g>\n",
              "</svg>\n",
              "  </button>\n",
              "\n",
              "<style>\n",
              "  .colab-df-quickchart {\n",
              "      --bg-color: #E8F0FE;\n",
              "      --fill-color: #1967D2;\n",
              "      --hover-bg-color: #E2EBFA;\n",
              "      --hover-fill-color: #174EA6;\n",
              "      --disabled-fill-color: #AAA;\n",
              "      --disabled-bg-color: #DDD;\n",
              "  }\n",
              "\n",
              "  [theme=dark] .colab-df-quickchart {\n",
              "      --bg-color: #3B4455;\n",
              "      --fill-color: #D2E3FC;\n",
              "      --hover-bg-color: #434B5C;\n",
              "      --hover-fill-color: #FFFFFF;\n",
              "      --disabled-bg-color: #3B4455;\n",
              "      --disabled-fill-color: #666;\n",
              "  }\n",
              "\n",
              "  .colab-df-quickchart {\n",
              "    background-color: var(--bg-color);\n",
              "    border: none;\n",
              "    border-radius: 50%;\n",
              "    cursor: pointer;\n",
              "    display: none;\n",
              "    fill: var(--fill-color);\n",
              "    height: 32px;\n",
              "    padding: 0;\n",
              "    width: 32px;\n",
              "  }\n",
              "\n",
              "  .colab-df-quickchart:hover {\n",
              "    background-color: var(--hover-bg-color);\n",
              "    box-shadow: 0 1px 2px rgba(60, 64, 67, 0.3), 0 1px 3px 1px rgba(60, 64, 67, 0.15);\n",
              "    fill: var(--button-hover-fill-color);\n",
              "  }\n",
              "\n",
              "  .colab-df-quickchart-complete:disabled,\n",
              "  .colab-df-quickchart-complete:disabled:hover {\n",
              "    background-color: var(--disabled-bg-color);\n",
              "    fill: var(--disabled-fill-color);\n",
              "    box-shadow: none;\n",
              "  }\n",
              "\n",
              "  .colab-df-spinner {\n",
              "    border: 2px solid var(--fill-color);\n",
              "    border-color: transparent;\n",
              "    border-bottom-color: var(--fill-color);\n",
              "    animation:\n",
              "      spin 1s steps(1) infinite;\n",
              "  }\n",
              "\n",
              "  @keyframes spin {\n",
              "    0% {\n",
              "      border-color: transparent;\n",
              "      border-bottom-color: var(--fill-color);\n",
              "      border-left-color: var(--fill-color);\n",
              "    }\n",
              "    20% {\n",
              "      border-color: transparent;\n",
              "      border-left-color: var(--fill-color);\n",
              "      border-top-color: var(--fill-color);\n",
              "    }\n",
              "    30% {\n",
              "      border-color: transparent;\n",
              "      border-left-color: var(--fill-color);\n",
              "      border-top-color: var(--fill-color);\n",
              "      border-right-color: var(--fill-color);\n",
              "    }\n",
              "    40% {\n",
              "      border-color: transparent;\n",
              "      border-right-color: var(--fill-color);\n",
              "      border-top-color: var(--fill-color);\n",
              "    }\n",
              "    60% {\n",
              "      border-color: transparent;\n",
              "      border-right-color: var(--fill-color);\n",
              "    }\n",
              "    80% {\n",
              "      border-color: transparent;\n",
              "      border-right-color: var(--fill-color);\n",
              "      border-bottom-color: var(--fill-color);\n",
              "    }\n",
              "    90% {\n",
              "      border-color: transparent;\n",
              "      border-bottom-color: var(--fill-color);\n",
              "    }\n",
              "  }\n",
              "</style>\n",
              "\n",
              "  <script>\n",
              "    async function quickchart(key) {\n",
              "      const quickchartButtonEl =\n",
              "        document.querySelector('#' + key + ' button');\n",
              "      quickchartButtonEl.disabled = true;  // To prevent multiple clicks.\n",
              "      quickchartButtonEl.classList.add('colab-df-spinner');\n",
              "      try {\n",
              "        const charts = await google.colab.kernel.invokeFunction(\n",
              "            'suggestCharts', [key], {});\n",
              "      } catch (error) {\n",
              "        console.error('Error during call to suggestCharts:', error);\n",
              "      }\n",
              "      quickchartButtonEl.classList.remove('colab-df-spinner');\n",
              "      quickchartButtonEl.classList.add('colab-df-quickchart-complete');\n",
              "    }\n",
              "    (() => {\n",
              "      let quickchartButtonEl =\n",
              "        document.querySelector('#df-12fa328a-fdf9-4943-9307-f4f5c8988b1a button');\n",
              "      quickchartButtonEl.style.display =\n",
              "        google.colab.kernel.accessAllowed ? 'block' : 'none';\n",
              "    })();\n",
              "  </script>\n",
              "</div>\n",
              "    </div>\n",
              "  </div>\n"
            ],
            "application/vnd.google.colaboratory.intrinsic+json": {
              "type": "dataframe",
              "summary": "{\n  \"name\": \"spam\",\n  \"rows\": 5,\n  \"fields\": [\n    {\n      \"column\": \"v1\",\n      \"properties\": {\n        \"dtype\": \"category\",\n        \"num_unique_values\": 1,\n        \"samples\": [\n          \"spam\"\n        ],\n        \"semantic_type\": \"\",\n        \"description\": \"\"\n      }\n    },\n    {\n      \"column\": \"v2\",\n      \"properties\": {\n        \"dtype\": \"string\",\n        \"num_unique_values\": 5,\n        \"samples\": [\n          \"Difficult thank treat newspaper impact. - Don't Wait!\"\n        ],\n        \"semantic_type\": \"\",\n        \"description\": \"\"\n      }\n    }\n  ]\n}"
            }
          },
          "metadata": {},
          "execution_count": 93
        }
      ]
    },
    {
      "cell_type": "markdown",
      "source": [
        "**Taking the required Columns in the Dataset**"
      ],
      "metadata": {
        "id": "4dPjFcZJfODm"
      }
    },
    {
      "cell_type": "code",
      "source": [
        "spam = spam[['v1', 'v2']]\n",
        "spam.columns = ['label', 'message']\n",
        "spam.head()"
      ],
      "metadata": {
        "colab": {
          "base_uri": "https://localhost:8080/",
          "height": 206
        },
        "id": "UOAH9GFoeS3N",
        "outputId": "c445c778-bd75-43d1-f5d2-03fcc1a3e195"
      },
      "execution_count": 94,
      "outputs": [
        {
          "output_type": "execute_result",
          "data": {
            "text/plain": [
              "  label                                            message\n",
              "0   ham  Go until jurong point, crazy.. Available only ...\n",
              "1   ham                      Ok lar... Joking wif u oni...\n",
              "2  spam  Free entry in 2 a wkly comp to win FA Cup fina...\n",
              "3   ham  U dun say so early hor... U c already then say...\n",
              "4   ham  Nah I don't think he goes to usf, he lives aro..."
            ],
            "text/html": [
              "\n",
              "  <div id=\"df-09a550c9-a231-4fe1-8000-28f60b5f046d\" class=\"colab-df-container\">\n",
              "    <div>\n",
              "<style scoped>\n",
              "    .dataframe tbody tr th:only-of-type {\n",
              "        vertical-align: middle;\n",
              "    }\n",
              "\n",
              "    .dataframe tbody tr th {\n",
              "        vertical-align: top;\n",
              "    }\n",
              "\n",
              "    .dataframe thead th {\n",
              "        text-align: right;\n",
              "    }\n",
              "</style>\n",
              "<table border=\"1\" class=\"dataframe\">\n",
              "  <thead>\n",
              "    <tr style=\"text-align: right;\">\n",
              "      <th></th>\n",
              "      <th>label</th>\n",
              "      <th>message</th>\n",
              "    </tr>\n",
              "  </thead>\n",
              "  <tbody>\n",
              "    <tr>\n",
              "      <th>0</th>\n",
              "      <td>ham</td>\n",
              "      <td>Go until jurong point, crazy.. Available only ...</td>\n",
              "    </tr>\n",
              "    <tr>\n",
              "      <th>1</th>\n",
              "      <td>ham</td>\n",
              "      <td>Ok lar... Joking wif u oni...</td>\n",
              "    </tr>\n",
              "    <tr>\n",
              "      <th>2</th>\n",
              "      <td>spam</td>\n",
              "      <td>Free entry in 2 a wkly comp to win FA Cup fina...</td>\n",
              "    </tr>\n",
              "    <tr>\n",
              "      <th>3</th>\n",
              "      <td>ham</td>\n",
              "      <td>U dun say so early hor... U c already then say...</td>\n",
              "    </tr>\n",
              "    <tr>\n",
              "      <th>4</th>\n",
              "      <td>ham</td>\n",
              "      <td>Nah I don't think he goes to usf, he lives aro...</td>\n",
              "    </tr>\n",
              "  </tbody>\n",
              "</table>\n",
              "</div>\n",
              "    <div class=\"colab-df-buttons\">\n",
              "\n",
              "  <div class=\"colab-df-container\">\n",
              "    <button class=\"colab-df-convert\" onclick=\"convertToInteractive('df-09a550c9-a231-4fe1-8000-28f60b5f046d')\"\n",
              "            title=\"Convert this dataframe to an interactive table.\"\n",
              "            style=\"display:none;\">\n",
              "\n",
              "  <svg xmlns=\"http://www.w3.org/2000/svg\" height=\"24px\" viewBox=\"0 -960 960 960\">\n",
              "    <path d=\"M120-120v-720h720v720H120Zm60-500h600v-160H180v160Zm220 220h160v-160H400v160Zm0 220h160v-160H400v160ZM180-400h160v-160H180v160Zm440 0h160v-160H620v160ZM180-180h160v-160H180v160Zm440 0h160v-160H620v160Z\"/>\n",
              "  </svg>\n",
              "    </button>\n",
              "\n",
              "  <style>\n",
              "    .colab-df-container {\n",
              "      display:flex;\n",
              "      gap: 12px;\n",
              "    }\n",
              "\n",
              "    .colab-df-convert {\n",
              "      background-color: #E8F0FE;\n",
              "      border: none;\n",
              "      border-radius: 50%;\n",
              "      cursor: pointer;\n",
              "      display: none;\n",
              "      fill: #1967D2;\n",
              "      height: 32px;\n",
              "      padding: 0 0 0 0;\n",
              "      width: 32px;\n",
              "    }\n",
              "\n",
              "    .colab-df-convert:hover {\n",
              "      background-color: #E2EBFA;\n",
              "      box-shadow: 0px 1px 2px rgba(60, 64, 67, 0.3), 0px 1px 3px 1px rgba(60, 64, 67, 0.15);\n",
              "      fill: #174EA6;\n",
              "    }\n",
              "\n",
              "    .colab-df-buttons div {\n",
              "      margin-bottom: 4px;\n",
              "    }\n",
              "\n",
              "    [theme=dark] .colab-df-convert {\n",
              "      background-color: #3B4455;\n",
              "      fill: #D2E3FC;\n",
              "    }\n",
              "\n",
              "    [theme=dark] .colab-df-convert:hover {\n",
              "      background-color: #434B5C;\n",
              "      box-shadow: 0px 1px 3px 1px rgba(0, 0, 0, 0.15);\n",
              "      filter: drop-shadow(0px 1px 2px rgba(0, 0, 0, 0.3));\n",
              "      fill: #FFFFFF;\n",
              "    }\n",
              "  </style>\n",
              "\n",
              "    <script>\n",
              "      const buttonEl =\n",
              "        document.querySelector('#df-09a550c9-a231-4fe1-8000-28f60b5f046d button.colab-df-convert');\n",
              "      buttonEl.style.display =\n",
              "        google.colab.kernel.accessAllowed ? 'block' : 'none';\n",
              "\n",
              "      async function convertToInteractive(key) {\n",
              "        const element = document.querySelector('#df-09a550c9-a231-4fe1-8000-28f60b5f046d');\n",
              "        const dataTable =\n",
              "          await google.colab.kernel.invokeFunction('convertToInteractive',\n",
              "                                                    [key], {});\n",
              "        if (!dataTable) return;\n",
              "\n",
              "        const docLinkHtml = 'Like what you see? Visit the ' +\n",
              "          '<a target=\"_blank\" href=https://colab.research.google.com/notebooks/data_table.ipynb>data table notebook</a>'\n",
              "          + ' to learn more about interactive tables.';\n",
              "        element.innerHTML = '';\n",
              "        dataTable['output_type'] = 'display_data';\n",
              "        await google.colab.output.renderOutput(dataTable, element);\n",
              "        const docLink = document.createElement('div');\n",
              "        docLink.innerHTML = docLinkHtml;\n",
              "        element.appendChild(docLink);\n",
              "      }\n",
              "    </script>\n",
              "  </div>\n",
              "\n",
              "\n",
              "<div id=\"df-ce7e5043-9642-486a-bd55-edd24909b616\">\n",
              "  <button class=\"colab-df-quickchart\" onclick=\"quickchart('df-ce7e5043-9642-486a-bd55-edd24909b616')\"\n",
              "            title=\"Suggest charts\"\n",
              "            style=\"display:none;\">\n",
              "\n",
              "<svg xmlns=\"http://www.w3.org/2000/svg\" height=\"24px\"viewBox=\"0 0 24 24\"\n",
              "     width=\"24px\">\n",
              "    <g>\n",
              "        <path d=\"M19 3H5c-1.1 0-2 .9-2 2v14c0 1.1.9 2 2 2h14c1.1 0 2-.9 2-2V5c0-1.1-.9-2-2-2zM9 17H7v-7h2v7zm4 0h-2V7h2v10zm4 0h-2v-4h2v4z\"/>\n",
              "    </g>\n",
              "</svg>\n",
              "  </button>\n",
              "\n",
              "<style>\n",
              "  .colab-df-quickchart {\n",
              "      --bg-color: #E8F0FE;\n",
              "      --fill-color: #1967D2;\n",
              "      --hover-bg-color: #E2EBFA;\n",
              "      --hover-fill-color: #174EA6;\n",
              "      --disabled-fill-color: #AAA;\n",
              "      --disabled-bg-color: #DDD;\n",
              "  }\n",
              "\n",
              "  [theme=dark] .colab-df-quickchart {\n",
              "      --bg-color: #3B4455;\n",
              "      --fill-color: #D2E3FC;\n",
              "      --hover-bg-color: #434B5C;\n",
              "      --hover-fill-color: #FFFFFF;\n",
              "      --disabled-bg-color: #3B4455;\n",
              "      --disabled-fill-color: #666;\n",
              "  }\n",
              "\n",
              "  .colab-df-quickchart {\n",
              "    background-color: var(--bg-color);\n",
              "    border: none;\n",
              "    border-radius: 50%;\n",
              "    cursor: pointer;\n",
              "    display: none;\n",
              "    fill: var(--fill-color);\n",
              "    height: 32px;\n",
              "    padding: 0;\n",
              "    width: 32px;\n",
              "  }\n",
              "\n",
              "  .colab-df-quickchart:hover {\n",
              "    background-color: var(--hover-bg-color);\n",
              "    box-shadow: 0 1px 2px rgba(60, 64, 67, 0.3), 0 1px 3px 1px rgba(60, 64, 67, 0.15);\n",
              "    fill: var(--button-hover-fill-color);\n",
              "  }\n",
              "\n",
              "  .colab-df-quickchart-complete:disabled,\n",
              "  .colab-df-quickchart-complete:disabled:hover {\n",
              "    background-color: var(--disabled-bg-color);\n",
              "    fill: var(--disabled-fill-color);\n",
              "    box-shadow: none;\n",
              "  }\n",
              "\n",
              "  .colab-df-spinner {\n",
              "    border: 2px solid var(--fill-color);\n",
              "    border-color: transparent;\n",
              "    border-bottom-color: var(--fill-color);\n",
              "    animation:\n",
              "      spin 1s steps(1) infinite;\n",
              "  }\n",
              "\n",
              "  @keyframes spin {\n",
              "    0% {\n",
              "      border-color: transparent;\n",
              "      border-bottom-color: var(--fill-color);\n",
              "      border-left-color: var(--fill-color);\n",
              "    }\n",
              "    20% {\n",
              "      border-color: transparent;\n",
              "      border-left-color: var(--fill-color);\n",
              "      border-top-color: var(--fill-color);\n",
              "    }\n",
              "    30% {\n",
              "      border-color: transparent;\n",
              "      border-left-color: var(--fill-color);\n",
              "      border-top-color: var(--fill-color);\n",
              "      border-right-color: var(--fill-color);\n",
              "    }\n",
              "    40% {\n",
              "      border-color: transparent;\n",
              "      border-right-color: var(--fill-color);\n",
              "      border-top-color: var(--fill-color);\n",
              "    }\n",
              "    60% {\n",
              "      border-color: transparent;\n",
              "      border-right-color: var(--fill-color);\n",
              "    }\n",
              "    80% {\n",
              "      border-color: transparent;\n",
              "      border-right-color: var(--fill-color);\n",
              "      border-bottom-color: var(--fill-color);\n",
              "    }\n",
              "    90% {\n",
              "      border-color: transparent;\n",
              "      border-bottom-color: var(--fill-color);\n",
              "    }\n",
              "  }\n",
              "</style>\n",
              "\n",
              "  <script>\n",
              "    async function quickchart(key) {\n",
              "      const quickchartButtonEl =\n",
              "        document.querySelector('#' + key + ' button');\n",
              "      quickchartButtonEl.disabled = true;  // To prevent multiple clicks.\n",
              "      quickchartButtonEl.classList.add('colab-df-spinner');\n",
              "      try {\n",
              "        const charts = await google.colab.kernel.invokeFunction(\n",
              "            'suggestCharts', [key], {});\n",
              "      } catch (error) {\n",
              "        console.error('Error during call to suggestCharts:', error);\n",
              "      }\n",
              "      quickchartButtonEl.classList.remove('colab-df-spinner');\n",
              "      quickchartButtonEl.classList.add('colab-df-quickchart-complete');\n",
              "    }\n",
              "    (() => {\n",
              "      let quickchartButtonEl =\n",
              "        document.querySelector('#df-ce7e5043-9642-486a-bd55-edd24909b616 button');\n",
              "      quickchartButtonEl.style.display =\n",
              "        google.colab.kernel.accessAllowed ? 'block' : 'none';\n",
              "    })();\n",
              "  </script>\n",
              "</div>\n",
              "    </div>\n",
              "  </div>\n"
            ],
            "application/vnd.google.colaboratory.intrinsic+json": {
              "type": "dataframe",
              "variable_name": "spam",
              "summary": "{\n  \"name\": \"spam\",\n  \"rows\": 7810,\n  \"fields\": [\n    {\n      \"column\": \"label\",\n      \"properties\": {\n        \"dtype\": \"category\",\n        \"num_unique_values\": 2,\n        \"samples\": [\n          \"spam\",\n          \"ham\"\n        ],\n        \"semantic_type\": \"\",\n        \"description\": \"\"\n      }\n    },\n    {\n      \"column\": \"message\",\n      \"properties\": {\n        \"dtype\": \"string\",\n        \"num_unique_values\": 7804,\n        \"samples\": [\n          \"Robust multimedia productivity - Don't Miss Out!\",\n          \"Exclusive Opportunity: Orchestrate efficient niches\"\n        ],\n        \"semantic_type\": \"\",\n        \"description\": \"\"\n      }\n    }\n  ]\n}"
            }
          },
          "metadata": {},
          "execution_count": 94
        }
      ]
    },
    {
      "source": [
        "# @title label\n",
        "\n",
        "from matplotlib import pyplot as plt\n",
        "import seaborn as sns\n",
        "spam.groupby('label').size().plot(kind='barh', color=sns.palettes.mpl_palette('Dark2'))\n",
        "plt.gca().spines[['top', 'right',]].set_visible(False)"
      ],
      "cell_type": "code",
      "execution_count": 95,
      "outputs": [
        {
          "output_type": "display_data",
          "data": {
            "text/plain": [
              "<Figure size 640x480 with 1 Axes>"
            ],
            "image/png": "[encoded data removed]"
          },
          "metadata": {}
        }
      ],
      "metadata": {
        "id": "ZtKM5damkRr0",
        "outputId": "1dffc5d1-9319-4b0d-a3fc-eee24c8ebe09",
        "colab": {
          "base_uri": "https://localhost:8080/",
          "height": 430
        }
      }
    },
    {
      "cell_type": "markdown",
      "source": [
        "**Dimensions of the Dataset**"
      ],
      "metadata": {
        "id": "IjcRFzNmxsOO"
      }
    },
    {
      "cell_type": "code",
      "source": [
        "spam.shape"
      ],
      "metadata": {
        "id": "KWpAuUoMhi71",
        "colab": {
          "base_uri": "https://localhost:8080/"
        },
        "outputId": "35a62eab-fb2b-41d3-8f02-a7b2b6580ee3"
      },
      "execution_count": 96,
      "outputs": [
        {
          "output_type": "execute_result",
          "data": {
            "text/plain": [
              "(7810, 2)"
            ]
          },
          "metadata": {},
          "execution_count": 96
        }
      ]
    },
    {
      "cell_type": "markdown",
      "source": [
        "**Checking for the classes in the Data**"
      ],
      "metadata": {
        "id": "b5pbpvp8iBU4"
      }
    },
    {
      "cell_type": "code",
      "source": [
        "spam.groupby('label').size()"
      ],
      "metadata": {
        "id": "Czwwq-qxiB2T",
        "colab": {
          "base_uri": "https://localhost:8080/",
          "height": 178
        },
        "outputId": "42d59001-27e4-49de-9c10-fba4d22b0ecb"
      },
      "execution_count": 97,
      "outputs": [
        {
          "output_type": "execute_result",
          "data": {
            "text/plain": [
              "label\n",
              "ham     4482\n",
              "spam    3328\n",
              "dtype: int64"
            ],
            "text/html": [
              "<div>\n",
              "<style scoped>\n",
              "    .dataframe tbody tr th:only-of-type {\n",
              "        vertical-align: middle;\n",
              "    }\n",
              "\n",
              "    .dataframe tbody tr th {\n",
              "        vertical-align: top;\n",
              "    }\n",
              "\n",
              "    .dataframe thead th {\n",
              "        text-align: right;\n",
              "    }\n",
              "</style>\n",
              "<table border=\"1\" class=\"dataframe\">\n",
              "  <thead>\n",
              "    <tr style=\"text-align: right;\">\n",
              "      <th></th>\n",
              "      <th>0</th>\n",
              "    </tr>\n",
              "    <tr>\n",
              "      <th>label</th>\n",
              "      <th></th>\n",
              "    </tr>\n",
              "  </thead>\n",
              "  <tbody>\n",
              "    <tr>\n",
              "      <th>ham</th>\n",
              "      <td>4482</td>\n",
              "    </tr>\n",
              "    <tr>\n",
              "      <th>spam</th>\n",
              "      <td>3328</td>\n",
              "    </tr>\n",
              "  </tbody>\n",
              "</table>\n",
              "</div><br><label><b>dtype:</b> int64</label>"
            ]
          },
          "metadata": {},
          "execution_count": 97
        }
      ]
    },
    {
      "cell_type": "markdown",
      "source": [
        "### Plotting"
      ],
      "metadata": {
        "id": "y_fhs72XhMaM"
      }
    },
    {
      "cell_type": "markdown",
      "source": [
        "**Plotting the Label in the Dataset**"
      ],
      "metadata": {
        "id": "vWpNSjdQhQWH"
      }
    },
    {
      "cell_type": "code",
      "source": [
        "spam['label'].value_counts().plot(kind='bar')"
      ],
      "metadata": {
        "id": "V7w-i2x2hGKW",
        "colab": {
          "base_uri": "https://localhost:8080/",
          "height": 492
        },
        "outputId": "570f69c8-2df3-40dc-f505-60bb1e259635"
      },
      "execution_count": 98,
      "outputs": [
        {
          "output_type": "execute_result",
          "data": {
            "text/plain": [
              "<Axes: xlabel='label'>"
            ]
          },
          "metadata": {},
          "execution_count": 98
        },
        {
          "output_type": "display_data",
          "data": {
            "text/plain": [
              "<Figure size 640x480 with 1 Axes>"
            ],
            "image/png": "[encoded data removed]"
          },
          "metadata": {}
        }
      ]
    },
    {
      "cell_type": "markdown",
      "source": [
        "### NLP"
      ],
      "metadata": {
        "id": "ybR1UeYUfwc0"
      }
    },
    {
      "cell_type": "markdown",
      "source": [
        "**Preprocessing the Text in the Dataset**"
      ],
      "metadata": {
        "id": "s4XwZxF9f3cf"
      }
    },
    {
      "cell_type": "code",
      "source": [
        "ps = PorterStemmer()\n",
        "corpus = []\n",
        "for i in range(0, len(spam)):\n",
        "    review = re.sub('[^a-zA-Z]', ' ', spam['message'][i])\n",
        "    review = review.lower()\n",
        "    review = review.split()\n",
        "    review = [ps.stem(word) for word in review if not word in stopwords.words('english')]\n",
        "    review = ' '.join(review)\n",
        "    corpus.append(review)\n",
        "\n",
        "# Printing the first 5 values in the corpus list\n",
        "corpus[1:6]"
      ],
      "metadata": {
        "id": "Pu6-6zcKfo0q",
        "colab": {
          "base_uri": "https://localhost:8080/"
        },
        "outputId": "63b5e41d-190b-4276-c500-281d32737a14"
      },
      "execution_count": 99,
      "outputs": [
        {
          "output_type": "execute_result",
          "data": {
            "text/plain": [
              "['ok lar joke wif u oni',\n",
              " 'free entri wkli comp win fa cup final tkt st may text fa receiv entri question std txt rate c appli',\n",
              " 'u dun say earli hor u c alreadi say',\n",
              " 'nah think goe usf live around though',\n",
              " 'freemsg hey darl week word back like fun still tb ok xxx std chg send rcv']"
            ]
          },
          "metadata": {},
          "execution_count": 99
        }
      ]
    },
    {
      "cell_type": "markdown",
      "source": [
        "**Creating Bag of Words Model**"
      ],
      "metadata": {
        "id": "wfIEqFUbhBad"
      }
    },
    {
      "cell_type": "code",
      "source": [
        "cv = CountVectorizer(max_features = 4000)\n",
        "X = cv.fit_transform(corpus).toarray()\n",
        "Y = pd.get_dummies(spam['label'])\n",
        "Y = Y.iloc[:, 1].values"
      ],
      "metadata": {
        "id": "G6iC3qhgf2VB"
      },
      "execution_count": 100,
      "outputs": []
    },
    {
      "cell_type": "markdown",
      "source": [
        "### Data Modeling"
      ],
      "metadata": {
        "id": "lixXNKv0idIG"
      }
    },
    {
      "cell_type": "markdown",
      "source": [
        "**Splitting the Dataset into Training and Testing Set**"
      ],
      "metadata": {
        "id": "OFlxID8Ui_tG"
      }
    },
    {
      "cell_type": "code",
      "source": [
        "X_train, X_test, Y_train, Y_test = train_test_split(X, Y, test_size = 0.20, random_state=42)"
      ],
      "metadata": {
        "id": "eSDRA6R5iyNP"
      },
      "execution_count": 101,
      "outputs": []
    },
    {
      "cell_type": "markdown",
      "source": [
        "### Model Building"
      ],
      "metadata": {
        "id": "y_e97KFpjO9W"
      }
    },
    {
      "cell_type": "markdown",
      "source": [
        "**Creating the Models**"
      ],
      "metadata": {
        "id": "EGP_PgyDjYDY"
      }
    },
    {
      "cell_type": "code",
      "source": [
        "# Model 1 - Random Forest Classifier\n",
        "model1 = RandomForestClassifier()\n",
        "model1.fit(X_train, Y_train)\n",
        "\n",
        "# Model 2 - Decision Tree Classifier\n",
        "model2 = DecisionTreeClassifier()\n",
        "model2.fit(X_train, Y_train)\n",
        "\n",
        "# Model 3 - Multinomial Naïve Bayes\n",
        "model3 = MultinomialNB()\n",
        "model3.fit(X_train, Y_train)"
      ],
      "metadata": {
        "id": "s88J6PCejSHE",
        "colab": {
          "base_uri": "https://localhost:8080/",
          "height": 79
        },
        "outputId": "6ee42f43-cef6-4200-ec28-209ee82b8f24"
      },
      "execution_count": 102,
      "outputs": [
        {
          "output_type": "execute_result",
          "data": {
            "text/plain": [
              "MultinomialNB()"
            ],
            "text/html": [
              "<style>#sk-container-id-4 {\n",
              "  /* Definition of color scheme common for light and dark mode */\n",
              "  --sklearn-color-text: black;\n",
              "  --sklearn-color-line: gray;\n",
              "  /* Definition of color scheme for unfitted estimators */\n",
              "  --sklearn-color-unfitted-level-0: #fff5e6;\n",
              "  --sklearn-color-unfitted-level-1: #f6e4d2;\n",
              "  --sklearn-color-unfitted-level-2: #ffe0b3;\n",
              "  --sklearn-color-unfitted-level-3: chocolate;\n",
              "  /* Definition of color scheme for fitted estimators */\n",
              "  --sklearn-color-fitted-level-0: #f0f8ff;\n",
              "  --sklearn-color-fitted-level-1: #d4ebff;\n",
              "  --sklearn-color-fitted-level-2: #b3dbfd;\n",
              "  --sklearn-color-fitted-level-3: cornflowerblue;\n",
              "\n",
              "  /* Specific color for light theme */\n",
              "  --sklearn-color-text-on-default-background: var(--sg-text-color, var(--theme-code-foreground, var(--jp-content-font-color1, black)));\n",
              "  --sklearn-color-background: var(--sg-background-color, var(--theme-background, var(--jp-layout-color0, white)));\n",
              "  --sklearn-color-border-box: var(--sg-text-color, var(--theme-code-foreground, var(--jp-content-font-color1, black)));\n",
              "  --sklearn-color-icon: #696969;\n",
              "\n",
              "  @media (prefers-color-scheme: dark) {\n",
              "    /* Redefinition of color scheme for dark theme */\n",
              "    --sklearn-color-text-on-default-background: var(--sg-text-color, var(--theme-code-foreground, var(--jp-content-font-color1, white)));\n",
              "    --sklearn-color-background: var(--sg-background-color, var(--theme-background, var(--jp-layout-color0, #111)));\n",
              "    --sklearn-color-border-box: var(--sg-text-color, var(--theme-code-foreground, var(--jp-content-font-color1, white)));\n",
              "    --sklearn-color-icon: #878787;\n",
              "  }\n",
              "}\n",
              "\n",
              "#sk-container-id-4 {\n",
              "  color: var(--sklearn-color-text);\n",
              "}\n",
              "\n",
              "#sk-container-id-4 pre {\n",
              "  padding: 0;\n",
              "}\n",
              "\n",
              "#sk-container-id-4 input.sk-hidden--visually {\n",
              "  border: 0;\n",
              "  clip: rect(1px 1px 1px 1px);\n",
              "  clip: rect(1px, 1px, 1px, 1px);\n",
              "  height: 1px;\n",
              "  margin: -1px;\n",
              "  overflow: hidden;\n",
              "  padding: 0;\n",
              "  position: absolute;\n",
              "  width: 1px;\n",
              "}\n",
              "\n",
              "#sk-container-id-4 div.sk-dashed-wrapped {\n",
              "  border: 1px dashed var(--sklearn-color-line);\n",
              "  margin: 0 0.4em 0.5em 0.4em;\n",
              "  box-sizing: border-box;\n",
              "  padding-bottom: 0.4em;\n",
              "  background-color: var(--sklearn-color-background);\n",
              "}\n",
              "\n",
              "#sk-container-id-4 div.sk-container {\n",
              "  /* jupyter's `normalize.less` sets `[hidden] { display: none; }`\n",
              "     but bootstrap.min.css set `[hidden] { display: none !important; }`\n",
              "     so we also need the `!important` here to be able to override the\n",
              "     default hidden behavior on the sphinx rendered scikit-learn.org.\n",
              "     See: https://github.com/scikit-learn/scikit-learn/issues/21755 */\n",
              "  display: inline-block !important;\n",
              "  position: relative;\n",
              "}\n",
              "\n",
              "#sk-container-id-4 div.sk-text-repr-fallback {\n",
              "  display: none;\n",
              "}\n",
              "\n",
              "div.sk-parallel-item,\n",
              "div.sk-serial,\n",
              "div.sk-item {\n",
              "  /* draw centered vertical line to link estimators */\n",
              "  background-image: linear-gradient(var(--sklearn-color-text-on-default-background), var(--sklearn-color-text-on-default-background));\n",
              "  background-size: 2px 100%;\n",
              "  background-repeat: no-repeat;\n",
              "  background-position: center center;\n",
              "}\n",
              "\n",
              "/* Parallel-specific style estimator block */\n",
              "\n",
              "#sk-container-id-4 div.sk-parallel-item::after {\n",
              "  content: \"\";\n",
              "  width: 100%;\n",
              "  border-bottom: 2px solid var(--sklearn-color-text-on-default-background);\n",
              "  flex-grow: 1;\n",
              "}\n",
              "\n",
              "#sk-container-id-4 div.sk-parallel {\n",
              "  display: flex;\n",
              "  align-items: stretch;\n",
              "  justify-content: center;\n",
              "  background-color: var(--sklearn-color-background);\n",
              "  position: relative;\n",
              "}\n",
              "\n",
              "#sk-container-id-4 div.sk-parallel-item {\n",
              "  display: flex;\n",
              "  flex-direction: column;\n",
              "}\n",
              "\n",
              "#sk-container-id-4 div.sk-parallel-item:first-child::after {\n",
              "  align-self: flex-end;\n",
              "  width: 50%;\n",
              "}\n",
              "\n",
              "#sk-container-id-4 div.sk-parallel-item:last-child::after {\n",
              "  align-self: flex-start;\n",
              "  width: 50%;\n",
              "}\n",
              "\n",
              "#sk-container-id-4 div.sk-parallel-item:only-child::after {\n",
              "  width: 0;\n",
              "}\n",
              "\n",
              "/* Serial-specific style estimator block */\n",
              "\n",
              "#sk-container-id-4 div.sk-serial {\n",
              "  display: flex;\n",
              "  flex-direction: column;\n",
              "  align-items: center;\n",
              "  background-color: var(--sklearn-color-background);\n",
              "  padding-right: 1em;\n",
              "  padding-left: 1em;\n",
              "}\n",
              "\n",
              "\n",
              "/* Toggleable style: style used for estimator/Pipeline/ColumnTransformer box that is\n",
              "clickable and can be expanded/collapsed.\n",
              "- Pipeline and ColumnTransformer use this feature and define the default style\n",
              "- Estimators will overwrite some part of the style using the `sk-estimator` class\n",
              "*/\n",
              "\n",
              "/* Pipeline and ColumnTransformer style (default) */\n",
              "\n",
              "#sk-container-id-4 div.sk-toggleable {\n",
              "  /* Default theme specific background. It is overwritten whether we have a\n",
              "  specific estimator or a Pipeline/ColumnTransformer */\n",
              "  background-color: var(--sklearn-color-background);\n",
              "}\n",
              "\n",
              "/* Toggleable label */\n",
              "#sk-container-id-4 label.sk-toggleable__label {\n",
              "  cursor: pointer;\n",
              "  display: block;\n",
              "  width: 100%;\n",
              "  margin-bottom: 0;\n",
              "  padding: 0.5em;\n",
              "  box-sizing: border-box;\n",
              "  text-align: center;\n",
              "}\n",
              "\n",
              "#sk-container-id-4 label.sk-toggleable__label-arrow:before {\n",
              "  /* Arrow on the left of the label */\n",
              "  content: \"▸\";\n",
              "  float: left;\n",
              "  margin-right: 0.25em;\n",
              "  color: var(--sklearn-color-icon);\n",
              "}\n",
              "\n",
              "#sk-container-id-4 label.sk-toggleable__label-arrow:hover:before {\n",
              "  color: var(--sklearn-color-text);\n",
              "}\n",
              "\n",
              "/* Toggleable content - dropdown */\n",
              "\n",
              "#sk-container-id-4 div.sk-toggleable__content {\n",
              "  max-height: 0;\n",
              "  max-width: 0;\n",
              "  overflow: hidden;\n",
              "  text-align: left;\n",
              "  /* unfitted */\n",
              "  background-color: var(--sklearn-color-unfitted-level-0);\n",
              "}\n",
              "\n",
              "#sk-container-id-4 div.sk-toggleable__content.fitted {\n",
              "  /* fitted */\n",
              "  background-color: var(--sklearn-color-fitted-level-0);\n",
              "}\n",
              "\n",
              "#sk-container-id-4 div.sk-toggleable__content pre {\n",
              "  margin: 0.2em;\n",
              "  border-radius: 0.25em;\n",
              "  color: var(--sklearn-color-text);\n",
              "  /* unfitted */\n",
              "  background-color: var(--sklearn-color-unfitted-level-0);\n",
              "}\n",
              "\n",
              "#sk-container-id-4 div.sk-toggleable__content.fitted pre {\n",
              "  /* unfitted */\n",
              "  background-color: var(--sklearn-color-fitted-level-0);\n",
              "}\n",
              "\n",
              "#sk-container-id-4 input.sk-toggleable__control:checked~div.sk-toggleable__content {\n",
              "  /* Expand drop-down */\n",
              "  max-height: 200px;\n",
              "  max-width: 100%;\n",
              "  overflow: auto;\n",
              "}\n",
              "\n",
              "#sk-container-id-4 input.sk-toggleable__control:checked~label.sk-toggleable__label-arrow:before {\n",
              "  content: \"▾\";\n",
              "}\n",
              "\n",
              "/* Pipeline/ColumnTransformer-specific style */\n",
              "\n",
              "#sk-container-id-4 div.sk-label input.sk-toggleable__control:checked~label.sk-toggleable__label {\n",
              "  color: var(--sklearn-color-text);\n",
              "  background-color: var(--sklearn-color-unfitted-level-2);\n",
              "}\n",
              "\n",
              "#sk-container-id-4 div.sk-label.fitted input.sk-toggleable__control:checked~label.sk-toggleable__label {\n",
              "  background-color: var(--sklearn-color-fitted-level-2);\n",
              "}\n",
              "\n",
              "/* Estimator-specific style */\n",
              "\n",
              "/* Colorize estimator box */\n",
              "#sk-container-id-4 div.sk-estimator input.sk-toggleable__control:checked~label.sk-toggleable__label {\n",
              "  /* unfitted */\n",
              "  background-color: var(--sklearn-color-unfitted-level-2);\n",
              "}\n",
              "\n",
              "#sk-container-id-4 div.sk-estimator.fitted input.sk-toggleable__control:checked~label.sk-toggleable__label {\n",
              "  /* fitted */\n",
              "  background-color: var(--sklearn-color-fitted-level-2);\n",
              "}\n",
              "\n",
              "#sk-container-id-4 div.sk-label label.sk-toggleable__label,\n",
              "#sk-container-id-4 div.sk-label label {\n",
              "  /* The background is the default theme color */\n",
              "  color: var(--sklearn-color-text-on-default-background);\n",
              "}\n",
              "\n",
              "/* On hover, darken the color of the background */\n",
              "#sk-container-id-4 div.sk-label:hover label.sk-toggleable__label {\n",
              "  color: var(--sklearn-color-text);\n",
              "  background-color: var(--sklearn-color-unfitted-level-2);\n",
              "}\n",
              "\n",
              "/* Label box, darken color on hover, fitted */\n",
              "#sk-container-id-4 div.sk-label.fitted:hover label.sk-toggleable__label.fitted {\n",
              "  color: var(--sklearn-color-text);\n",
              "  background-color: var(--sklearn-color-fitted-level-2);\n",
              "}\n",
              "\n",
              "/* Estimator label */\n",
              "\n",
              "#sk-container-id-4 div.sk-label label {\n",
              "  font-family: monospace;\n",
              "  font-weight: bold;\n",
              "  display: inline-block;\n",
              "  line-height: 1.2em;\n",
              "}\n",
              "\n",
              "#sk-container-id-4 div.sk-label-container {\n",
              "  text-align: center;\n",
              "}\n",
              "\n",
              "/* Estimator-specific */\n",
              "#sk-container-id-4 div.sk-estimator {\n",
              "  font-family: monospace;\n",
              "  border: 1px dotted var(--sklearn-color-border-box);\n",
              "  border-radius: 0.25em;\n",
              "  box-sizing: border-box;\n",
              "  margin-bottom: 0.5em;\n",
              "  /* unfitted */\n",
              "  background-color: var(--sklearn-color-unfitted-level-0);\n",
              "}\n",
              "\n",
              "#sk-container-id-4 div.sk-estimator.fitted {\n",
              "  /* fitted */\n",
              "  background-color: var(--sklearn-color-fitted-level-0);\n",
              "}\n",
              "\n",
              "/* on hover */\n",
              "#sk-container-id-4 div.sk-estimator:hover {\n",
              "  /* unfitted */\n",
              "  background-color: var(--sklearn-color-unfitted-level-2);\n",
              "}\n",
              "\n",
              "#sk-container-id-4 div.sk-estimator.fitted:hover {\n",
              "  /* fitted */\n",
              "  background-color: var(--sklearn-color-fitted-level-2);\n",
              "}\n",
              "\n",
              "/* Specification for estimator info (e.g. \"i\" and \"?\") */\n",
              "\n",
              "/* Common style for \"i\" and \"?\" */\n",
              "\n",
              ".sk-estimator-doc-link,\n",
              "a:link.sk-estimator-doc-link,\n",
              "a:visited.sk-estimator-doc-link {\n",
              "  float: right;\n",
              "  font-size: smaller;\n",
              "  line-height: 1em;\n",
              "  font-family: monospace;\n",
              "  background-color: var(--sklearn-color-background);\n",
              "  border-radius: 1em;\n",
              "  height: 1em;\n",
              "  width: 1em;\n",
              "  text-decoration: none !important;\n",
              "  margin-left: 1ex;\n",
              "  /* unfitted */\n",
              "  border: var(--sklearn-color-unfitted-level-1) 1pt solid;\n",
              "  color: var(--sklearn-color-unfitted-level-1);\n",
              "}\n",
              "\n",
              ".sk-estimator-doc-link.fitted,\n",
              "a:link.sk-estimator-doc-link.fitted,\n",
              "a:visited.sk-estimator-doc-link.fitted {\n",
              "  /* fitted */\n",
              "  border: var(--sklearn-color-fitted-level-1) 1pt solid;\n",
              "  color: var(--sklearn-color-fitted-level-1);\n",
              "}\n",
              "\n",
              "/* On hover */\n",
              "div.sk-estimator:hover .sk-estimator-doc-link:hover,\n",
              ".sk-estimator-doc-link:hover,\n",
              "div.sk-label-container:hover .sk-estimator-doc-link:hover,\n",
              ".sk-estimator-doc-link:hover {\n",
              "  /* unfitted */\n",
              "  background-color: var(--sklearn-color-unfitted-level-3);\n",
              "  color: var(--sklearn-color-background);\n",
              "  text-decoration: none;\n",
              "}\n",
              "\n",
              "div.sk-estimator.fitted:hover .sk-estimator-doc-link.fitted:hover,\n",
              ".sk-estimator-doc-link.fitted:hover,\n",
              "div.sk-label-container:hover .sk-estimator-doc-link.fitted:hover,\n",
              ".sk-estimator-doc-link.fitted:hover {\n",
              "  /* fitted */\n",
              "  background-color: var(--sklearn-color-fitted-level-3);\n",
              "  color: var(--sklearn-color-background);\n",
              "  text-decoration: none;\n",
              "}\n",
              "\n",
              "/* Span, style for the box shown on hovering the info icon */\n",
              ".sk-estimator-doc-link span {\n",
              "  display: none;\n",
              "  z-index: 9999;\n",
              "  position: relative;\n",
              "  font-weight: normal;\n",
              "  right: .2ex;\n",
              "  padding: .5ex;\n",
              "  margin: .5ex;\n",
              "  width: min-content;\n",
              "  min-width: 20ex;\n",
              "  max-width: 50ex;\n",
              "  color: var(--sklearn-color-text);\n",
              "  box-shadow: 2pt 2pt 4pt #999;\n",
              "  /* unfitted */\n",
              "  background: var(--sklearn-color-unfitted-level-0);\n",
              "  border: .5pt solid var(--sklearn-color-unfitted-level-3);\n",
              "}\n",
              "\n",
              ".sk-estimator-doc-link.fitted span {\n",
              "  /* fitted */\n",
              "  background: var(--sklearn-color-fitted-level-0);\n",
              "  border: var(--sklearn-color-fitted-level-3);\n",
              "}\n",
              "\n",
              ".sk-estimator-doc-link:hover span {\n",
              "  display: block;\n",
              "}\n",
              "\n",
              "/* \"?\"-specific style due to the `<a>` HTML tag */\n",
              "\n",
              "#sk-container-id-4 a.estimator_doc_link {\n",
              "  float: right;\n",
              "  font-size: 1rem;\n",
              "  line-height: 1em;\n",
              "  font-family: monospace;\n",
              "  background-color: var(--sklearn-color-background);\n",
              "  border-radius: 1rem;\n",
              "  height: 1rem;\n",
              "  width: 1rem;\n",
              "  text-decoration: none;\n",
              "  /* unfitted */\n",
              "  color: var(--sklearn-color-unfitted-level-1);\n",
              "  border: var(--sklearn-color-unfitted-level-1) 1pt solid;\n",
              "}\n",
              "\n",
              "#sk-container-id-4 a.estimator_doc_link.fitted {\n",
              "  /* fitted */\n",
              "  border: var(--sklearn-color-fitted-level-1) 1pt solid;\n",
              "  color: var(--sklearn-color-fitted-level-1);\n",
              "}\n",
              "\n",
              "/* On hover */\n",
              "#sk-container-id-4 a.estimator_doc_link:hover {\n",
              "  /* unfitted */\n",
              "  background-color: var(--sklearn-color-unfitted-level-3);\n",
              "  color: var(--sklearn-color-background);\n",
              "  text-decoration: none;\n",
              "}\n",
              "\n",
              "#sk-container-id-4 a.estimator_doc_link.fitted:hover {\n",
              "  /* fitted */\n",
              "  background-color: var(--sklearn-color-fitted-level-3);\n",
              "}\n",
              "</style><div id=\"sk-container-id-4\" class=\"sk-top-container\"><div class=\"sk-text-repr-fallback\"><pre>MultinomialNB()</pre><b>In a Jupyter environment, please rerun this cell to show the HTML representation or trust the notebook. <br />On GitHub, the HTML representation is unable to render, please try loading this page with nbviewer.org.</b></div><div class=\"sk-container\" hidden><div class=\"sk-item\"><div class=\"sk-estimator fitted sk-toggleable\"><input class=\"sk-toggleable__control sk-hidden--visually\" id=\"sk-estimator-id-4\" type=\"checkbox\" checked><label for=\"sk-estimator-id-4\" class=\"sk-toggleable__label fitted sk-toggleable__label-arrow fitted\">&nbsp;&nbsp;MultinomialNB<a class=\"sk-estimator-doc-link fitted\" rel=\"noreferrer\" target=\"_blank\" href=\"https://scikit-learn.org/1.5/modules/generated/sklearn.naive_bayes.MultinomialNB.html\">?<span>Documentation for MultinomialNB</span></a><span class=\"sk-estimator-doc-link fitted\">i<span>Fitted</span></span></label><div class=\"sk-toggleable__content fitted\"><pre>MultinomialNB()</pre></div> </div></div></div></div>"
            ]
          },
          "metadata": {},
          "execution_count": 102
        }
      ]
    },
    {
      "cell_type": "markdown",
      "source": [
        "**Prediction**"
      ],
      "metadata": {
        "id": "tJDHZhoKkhz4"
      }
    },
    {
      "cell_type": "code",
      "source": [
        "pred1 = model1.predict(X_test)\n",
        "pred2 = model2.predict(X_test)\n",
        "pred3 = model3.predict(X_test)"
      ],
      "metadata": {
        "id": "5C3Wo22nkEd4"
      },
      "execution_count": 103,
      "outputs": []
    },
    {
      "cell_type": "markdown",
      "source": [
        "### Model Testing"
      ],
      "metadata": {
        "id": "fBy8rARqkomz"
      }
    },
    {
      "cell_type": "markdown",
      "source": [
        "**Testing the Model**"
      ],
      "metadata": {
        "id": "VY3j9uW4l7AG"
      }
    },
    {
      "cell_type": "code",
      "source": [
        "# Model 1 - Random Forest Classifier\n",
        "print(\"Random Forest Classifier\")\n",
        "print(\"Confusion Matrix: \")\n",
        "print(confusion_matrix(Y_test, pred1))\n",
        "print(\"Accuracy: \", accuracy_score(Y_test, pred1))\n",
        "print(\"--------------------------------\")\n",
        "\n",
        "# Model 2 - Decision Tree Classifier\n",
        "print(\"Decision Tree Classifier\")\n",
        "print(\"Confusion Matrix: \")\n",
        "print(confusion_matrix(Y_test, pred2))\n",
        "print(\"Accuracy: \", accuracy_score(Y_test, pred2))\n",
        "print(\"--------------------------------\")\n",
        "\n",
        "# Model 3 - Multinomial Naïve Bayes\n",
        "print(\"Multinomial Naïve Bayes\")\n",
        "print(\"Confusion Matrix: \")\n",
        "print(confusion_matrix(Y_test, pred3))\n",
        "print(\"Accuracy: \", accuracy_score(Y_test, pred3))"
      ],
      "metadata": {
        "id": "C-alX1Ydk2p3",
        "colab": {
          "base_uri": "https://localhost:8080/"
        },
        "outputId": "d51e1145-be90-4446-f68e-fbf50b566809"
      },
      "execution_count": 104,
      "outputs": [
        {
          "output_type": "stream",
          "name": "stdout",
          "text": [
            "Random Forest Classifier\n",
            "Confusion Matrix: \n",
            "[[861  11]\n",
            " [ 53 637]]\n",
            "Accuracy:  0.9590268886043534\n",
            "--------------------------------\n",
            "Decision Tree Classifier\n",
            "Confusion Matrix: \n",
            "[[842  30]\n",
            " [ 54 636]]\n",
            "Accuracy:  0.9462227912932138\n",
            "--------------------------------\n",
            "Multinomial Naïve Bayes\n",
            "Confusion Matrix: \n",
            "[[841  31]\n",
            " [ 30 660]]\n",
            "Accuracy:  0.9609475032010243\n"
          ]
        }
      ]
    },
    {
      "cell_type": "code",
      "source": [
        "from sklearn.metrics import confusion_matrix\n",
        "cm = confusion_matrix(Y_test, pred3)\n",
        "\n",
        "import seaborn as sns\n",
        "sns.heatmap(cm, annot=True)\n"
      ],
      "metadata": {
        "colab": {
          "base_uri": "https://localhost:8080/",
          "height": 448
        },
        "id": "0FwZadc39KCl",
        "outputId": "bbcae55d-0f32-4233-d92b-a1306e1e6a4e"
      },
      "execution_count": 105,
      "outputs": [
        {
          "output_type": "execute_result",
          "data": {
            "text/plain": [
              "<Axes: >"
            ]
          },
          "metadata": {},
          "execution_count": 105
        },
        {
          "output_type": "display_data",
          "data": {
            "text/plain": [
              "<Figure size 640x480 with 2 Axes>"
            ],
            "image/png": "[encoded data removed]"
          },
          "metadata": {}
        }
      ]
    },
    {
      "cell_type": "code",
      "source": [
        "from sklearn.metrics import classification_report\n",
        "\n",
        "report1 = classification_report(Y_test, pred1)\n",
        "print(\"Classification Report for RFC \\n\", report1)\n",
        "\n",
        "report2 = classification_report(Y_test, pred2)\n",
        "print(\"Classification Report for DTC \\n\", report2)\n",
        "\n",
        "report3 = classification_report(Y_test, pred3)\n",
        "print(\"Classification Report for MNB \\n\", report3)"
      ],
      "metadata": {
        "id": "Zpo1CjEU-YTb",
        "outputId": "0f319eb3-5877-4fb5-c012-50a8ceb43a49",
        "colab": {
          "base_uri": "https://localhost:8080/"
        }
      },
      "execution_count": 106,
      "outputs": [
        {
          "output_type": "stream",
          "name": "stdout",
          "text": [
            "Classification Report for RFC \n",
            "               precision    recall  f1-score   support\n",
            "\n",
            "       False       0.94      0.99      0.96       872\n",
            "        True       0.98      0.92      0.95       690\n",
            "\n",
            "    accuracy                           0.96      1562\n",
            "   macro avg       0.96      0.96      0.96      1562\n",
            "weighted avg       0.96      0.96      0.96      1562\n",
            "\n",
            "Classification Report for DTC \n",
            "               precision    recall  f1-score   support\n",
            "\n",
            "       False       0.94      0.97      0.95       872\n",
            "        True       0.95      0.92      0.94       690\n",
            "\n",
            "    accuracy                           0.95      1562\n",
            "   macro avg       0.95      0.94      0.95      1562\n",
            "weighted avg       0.95      0.95      0.95      1562\n",
            "\n",
            "Classification Report for MNB \n",
            "               precision    recall  f1-score   support\n",
            "\n",
            "       False       0.97      0.96      0.97       872\n",
            "        True       0.96      0.96      0.96       690\n",
            "\n",
            "    accuracy                           0.96      1562\n",
            "   macro avg       0.96      0.96      0.96      1562\n",
            "weighted avg       0.96      0.96      0.96      1562\n",
            "\n"
          ]
        }
      ]
    },
    {
      "cell_type": "markdown",
      "source": [
        "**Best Model is Multinomial Naïve Bayes**"
      ],
      "metadata": {
        "id": "6dTSf8i__QN8"
      }
    },
    {
      "cell_type": "markdown",
      "source": [
        "### Saving Models"
      ],
      "metadata": {
        "id": "aSfn7iCxmylO"
      }
    },
    {
      "cell_type": "markdown",
      "source": [
        "Saving all the Models"
      ],
      "metadata": {
        "id": "IwGL6x7fm8FC"
      }
    },
    {
      "cell_type": "code",
      "source": [
        "filename = \"RFC.pkl\"\n",
        "pickle.dump(model1, open(filename, 'wb'))\n",
        "filename = \"DTC.pkl\"\n",
        "pickle.dump(model2, open(filename, 'wb'))\n",
        "filename = \"MNB.pkl\"\n",
        "pickle.dump(model3, open(filename, 'wb'))\n",
        "print(\"Saved all Models\")"
      ],
      "metadata": {
        "id": "1PQPuXLxnJas",
        "colab": {
          "base_uri": "https://localhost:8080/"
        },
        "outputId": "ad48367f-7348-4ceb-a721-d4e7ceb757e3"
      },
      "execution_count": 107,
      "outputs": [
        {
          "output_type": "stream",
          "name": "stdout",
          "text": [
            "Saved all Models\n"
          ]
        }
      ]
    },
    {
      "cell_type": "code",
      "source": [
        "df_spam = spam[spam['label'] == 'spam'].copy()\n",
        "comment_words = ''\n",
        "stopwords = set(STOPWORDS)\n",
        "\n",
        "for val in df_spam['message']:\n",
        "    val = str(val)\n",
        "    tokens = val.split()\n",
        "    for i in range(len(tokens)):\n",
        "        tokens[i] = tokens[i].lower()\n",
        "    comment_words += \" \".join(tokens) + \" \"\n",
        "\n",
        "wordcloud = WordCloud(width=1000, height=500, background_color='white', stopwords=stopwords, min_font_size=10, max_words=1000, colormap='gist_heat_r').generate(comment_words)\n",
        "\n",
        "# Plotting the Word Cloud\n",
        "plt.figure(figsize=(6, 6), facecolor=None)\n",
        "plt.title('Most Used Words In Spam Messages', fontsize=15, pad=20)\n",
        "plt.imshow(wordcloud)\n",
        "plt.axis(\"off\")\n",
        "plt.tight_layout(pad=0)\n",
        "\n",
        "# Display the Word Cloud\n",
        "plt.show()"
      ],
      "metadata": {
        "colab": {
          "base_uri": "https://localhost:8080/",
          "height": 380
        },
        "id": "qqhexLv8zpvj",
        "outputId": "29cbea8f-19ed-457d-8203-10abd02043bc"
      },
      "execution_count": 110,
      "outputs": [
        {
          "output_type": "display_data",
          "data": {
            "text/plain": [
              "<Figure size 600x600 with 1 Axes>"
            ],
            "image/png": "[encoded data removed]"
          },
          "metadata": {}
        }
      ]
    }
  ]
}